{
 "cells": [
  {
   "cell_type": "code",
   "execution_count": 2,
   "metadata": {},
   "outputs": [
    {
     "name": "stderr",
     "output_type": "stream",
     "text": [
      "Using TensorFlow backend.\n"
     ]
    }
   ],
   "source": [
    "import os\n",
    "import cv2\n",
    "import glob\n",
    "import pandas as pd\n",
    "import numpy as np\n",
    "import matplotlib.pyplot as plt\n",
    "from sklearn import model_selection\n",
    "from PIL import Image\n",
    "from pathlib import Path\n",
    "from skimage.io import imread\n",
    "import keras\n",
    "from keras.utils import to_categorical\n",
    "from keras.models import Sequential\n",
    "from keras.layers import Dense, Dropout,MaxPooling2D, Conv2D, Flatten\n",
    "from keras.optimizers import Adam"
   ]
  },
  {
   "cell_type": "code",
   "execution_count": 3,
   "metadata": {},
   "outputs": [],
   "source": [
    "classes=[\"NORMAL\",\"PNEUMONIA\"]\n",
    "Numclasses=len(classes)\n",
    "ImageSize=32\n",
    "X_train = []\n",
    "Y_train = []\n",
    "\n",
    "for index, ClassLabel in enumerate(classes):\n",
    "    PhotosDir = \"chest_xray/chest_xray/train/\"+ClassLabel\n",
    "    files = glob.glob(PhotosDir+\"/*.jpeg\")\n",
    "    for i, file in enumerate(files):\n",
    "        image = Image.open(file)\n",
    "        image = image.convert(\"RGB\")\n",
    "        image = image.resize((ImageSize,ImageSize))\n",
    "        data = np.asarray(image)\n",
    "        X_train.append(data)\n",
    "        Y_train.append(index)\n",
    "\n",
    "X_train = np.array(X_train)\n",
    "Y_train = np.array(Y_train)"
   ]
  },
  {
   "cell_type": "code",
   "execution_count": 4,
   "metadata": {},
   "outputs": [],
   "source": [
    "classes=[\"NORMAL\",\"PNEUMONIA\"]\n",
    "Numclasses=len(classes)\n",
    "ImageSize=32\n",
    "X_val = []\n",
    "Y_val = []\n",
    "\n",
    "for index, ClassLabel in enumerate(classes):\n",
    "    PhotosDir = \"chest_xray/chest_xray/val/\"+ClassLabel\n",
    "    files = glob.glob(PhotosDir+\"/*.jpeg\")\n",
    "    for i, file in enumerate(files):\n",
    "        image = Image.open(file)\n",
    "        image = image.convert(\"RGB\")\n",
    "        image = image.resize((ImageSize,ImageSize))\n",
    "        data = np.asarray(image)\n",
    "        X_val.append(data)\n",
    "        Y_val.append(index)\n",
    "\n",
    "X_val = np.array(X_val)\n",
    "Y_val = np.array(Y_val)"
   ]
  },
  {
   "cell_type": "code",
   "execution_count": 5,
   "metadata": {},
   "outputs": [],
   "source": [
    "classes=[\"NORMAL\",\"PNEUMONIA\"]\n",
    "Numclasses=len(classes)\n",
    "ImageSize=32\n",
    "X_test = []\n",
    "Y_test = []\n",
    "\n",
    "for index, ClassLabel in enumerate(classes):\n",
    "    PhotosDir = \"chest_xray/chest_xray/test/\"+ClassLabel\n",
    "    files = glob.glob(PhotosDir+\"/*.jpeg\")\n",
    "    for i, file in enumerate(files):\n",
    "        image = Image.open(file)\n",
    "        image = image.convert(\"RGB\")\n",
    "        image = image.resize((ImageSize,ImageSize))\n",
    "        data = np.asarray(image)\n",
    "        X_test.append(data)\n",
    "        Y_test.append(index)\n",
    "\n",
    "X_test = np.array(X_test)\n",
    "Y_test = np.array(Y_test)"
   ]
  },
  {
   "cell_type": "code",
   "execution_count": 6,
   "metadata": {},
   "outputs": [],
   "source": [
    "X_train = X_train / 255.\n",
    "X_test = X_test / 255.\n",
    "X_val= X_val /255.\n",
    "\n",
    "Y_train = to_categorical(Y_train, 2)\n",
    "Y_test = to_categorical(Y_test, 2)\n",
    "Y_val = to_categorical(Y_val, 2)"
   ]
  },
  {
   "cell_type": "code",
   "execution_count": 7,
   "metadata": {},
   "outputs": [
    {
     "data": {
      "text/plain": [
       "(5216, 32, 32, 3)"
      ]
     },
     "execution_count": 7,
     "metadata": {},
     "output_type": "execute_result"
    }
   ],
   "source": [
    "X_train.shape"
   ]
  },
  {
   "cell_type": "code",
   "execution_count": 8,
   "metadata": {},
   "outputs": [
    {
     "data": {
      "text/plain": [
       "(5216, 2)"
      ]
     },
     "execution_count": 8,
     "metadata": {},
     "output_type": "execute_result"
    }
   ],
   "source": [
    "Y_train.shape"
   ]
  },
  {
   "cell_type": "code",
   "execution_count": 9,
   "metadata": {},
   "outputs": [
    {
     "name": "stdout",
     "output_type": "stream",
     "text": [
      "Model: \"sequential_1\"\n",
      "_________________________________________________________________\n",
      "Layer (type)                 Output Shape              Param #   \n",
      "=================================================================\n",
      "conv2d_1 (Conv2D)            (None, 32, 32, 32)        896       \n",
      "_________________________________________________________________\n",
      "conv2d_2 (Conv2D)            (None, 32, 32, 32)        9248      \n",
      "_________________________________________________________________\n",
      "max_pooling2d_1 (MaxPooling2 (None, 16, 16, 32)        0         \n",
      "_________________________________________________________________\n",
      "dropout_1 (Dropout)          (None, 16, 16, 32)        0         \n",
      "_________________________________________________________________\n",
      "conv2d_3 (Conv2D)            (None, 16, 16, 64)        18496     \n",
      "_________________________________________________________________\n",
      "conv2d_4 (Conv2D)            (None, 16, 16, 64)        36928     \n",
      "_________________________________________________________________\n",
      "max_pooling2d_2 (MaxPooling2 (None, 8, 8, 64)          0         \n",
      "_________________________________________________________________\n",
      "dropout_2 (Dropout)          (None, 8, 8, 64)          0         \n",
      "_________________________________________________________________\n",
      "flatten_1 (Flatten)          (None, 4096)              0         \n",
      "_________________________________________________________________\n",
      "dense_1 (Dense)              (None, 512)               2097664   \n",
      "_________________________________________________________________\n",
      "dropout_3 (Dropout)          (None, 512)               0         \n",
      "_________________________________________________________________\n",
      "dense_2 (Dense)              (None, 2)                 1026      \n",
      "=================================================================\n",
      "Total params: 2,164,258\n",
      "Trainable params: 2,164,258\n",
      "Non-trainable params: 0\n",
      "_________________________________________________________________\n"
     ]
    }
   ],
   "source": [
    "model=Sequential()\n",
    "\n",
    "model.add(Conv2D(filters=32,\n",
    "        input_shape=(32, 32, 3),\n",
    "        kernel_size=(3, 3),\n",
    "        strides=(1, 1),\n",
    "        padding='same',\n",
    "        activation='relu'\n",
    "    )\n",
    ")\n",
    "model.add(Conv2D(\n",
    "        filters=32,\n",
    "        kernel_size=(3, 3),\n",
    "        strides=(1, 1),\n",
    "        padding='same',\n",
    "        activation='relu'\n",
    "    )\n",
    ")\n",
    "model.add(MaxPooling2D(pool_size=(2,2)))\n",
    "model.add(Dropout(0.25))\n",
    "\n",
    "\n",
    "model.add(Conv2D(\n",
    "        filters=64,\n",
    "        kernel_size=(3, 3),\n",
    "        strides=(1, 1),\n",
    "        padding='same',\n",
    "        activation='relu'\n",
    "    )\n",
    ")\n",
    "model.add(Conv2D(\n",
    "        filters=64,\n",
    "        kernel_size=(3, 3),\n",
    "        strides=(1, 1),\n",
    "        padding='same',\n",
    "        activation='relu'\n",
    "    )\n",
    ")\n",
    "model.add(MaxPooling2D(pool_size=(2,2)))\n",
    "model.add(Dropout(0.25))\n",
    "\n",
    "\n",
    "model.add(Flatten())\n",
    "\n",
    "\n",
    "model.add(Dense(units=512, activation='relu'))\n",
    "model.add(Dropout(0.5))\n",
    "model.add(Dense(units=2, activation='softmax'))\n",
    "\n",
    "\n",
    "model.compile(\n",
    "    optimizer='adam',\n",
    "    loss='categorical_crossentropy',\n",
    "    metrics=['accuracy']\n",
    ")\n",
    "\n",
    "\n",
    "model.summary()"
   ]
  },
  {
   "cell_type": "code",
   "execution_count": 10,
   "metadata": {},
   "outputs": [
    {
     "name": "stdout",
     "output_type": "stream",
     "text": [
      "Train on 5216 samples, validate on 16 samples\n",
      "Epoch 1/20\n",
      "5216/5216 [==============================] - 16s 3ms/step - loss: 0.3130 - accuracy: 0.8641 - val_loss: 0.3127 - val_accuracy: 0.8750\n",
      "Epoch 2/20\n",
      "5216/5216 [==============================] - 18s 3ms/step - loss: 0.1487 - accuracy: 0.9415 - val_loss: 0.6126 - val_accuracy: 0.8125\n",
      "Epoch 3/20\n",
      "5216/5216 [==============================] - 16s 3ms/step - loss: 0.0976 - accuracy: 0.9611 - val_loss: 0.9685 - val_accuracy: 0.6250\n",
      "Epoch 4/20\n",
      "5216/5216 [==============================] - 18s 3ms/step - loss: 0.0948 - accuracy: 0.9632 - val_loss: 0.4882 - val_accuracy: 0.7500\n",
      "Epoch 5/20\n",
      "5216/5216 [==============================] - 16s 3ms/step - loss: 0.0910 - accuracy: 0.9657 - val_loss: 0.4860 - val_accuracy: 0.7500\n",
      "Epoch 6/20\n",
      "5216/5216 [==============================] - 18s 3ms/step - loss: 0.0750 - accuracy: 0.9735 - val_loss: 0.5330 - val_accuracy: 0.8125\n",
      "Epoch 7/20\n",
      "5216/5216 [==============================] - 17s 3ms/step - loss: 0.0573 - accuracy: 0.9781 - val_loss: 0.5517 - val_accuracy: 0.7500\n",
      "Epoch 8/20\n",
      "5216/5216 [==============================] - 21s 4ms/step - loss: 0.0616 - accuracy: 0.9764 - val_loss: 0.2292 - val_accuracy: 0.9375\n",
      "Epoch 9/20\n",
      "5216/5216 [==============================] - 22s 4ms/step - loss: 0.0553 - accuracy: 0.9789 - val_loss: 0.1664 - val_accuracy: 0.9375\n",
      "Epoch 10/20\n",
      "5216/5216 [==============================] - 21s 4ms/step - loss: 0.0478 - accuracy: 0.9808 - val_loss: 0.5599 - val_accuracy: 0.8125\n",
      "Epoch 11/20\n",
      "5216/5216 [==============================] - 23s 4ms/step - loss: 0.0528 - accuracy: 0.9822 - val_loss: 0.2910 - val_accuracy: 0.9375\n",
      "Epoch 12/20\n",
      "5216/5216 [==============================] - 17s 3ms/step - loss: 0.0438 - accuracy: 0.9829 - val_loss: 0.2436 - val_accuracy: 0.8750\n",
      "Epoch 13/20\n",
      "5216/5216 [==============================] - 21s 4ms/step - loss: 0.0415 - accuracy: 0.9843 - val_loss: 0.3458 - val_accuracy: 0.8750\n",
      "Epoch 14/20\n",
      "5216/5216 [==============================] - 18s 3ms/step - loss: 0.0342 - accuracy: 0.9872 - val_loss: 0.1864 - val_accuracy: 0.8750\n",
      "Epoch 15/20\n",
      "5216/5216 [==============================] - 19s 4ms/step - loss: 0.0331 - accuracy: 0.9870 - val_loss: 0.2667 - val_accuracy: 0.8750\n",
      "Epoch 16/20\n",
      "5216/5216 [==============================] - 21s 4ms/step - loss: 0.0321 - accuracy: 0.9883 - val_loss: 0.1672 - val_accuracy: 0.9375\n",
      "Epoch 17/20\n",
      "5216/5216 [==============================] - 19s 4ms/step - loss: 0.0331 - accuracy: 0.9868 - val_loss: 0.3689 - val_accuracy: 0.8750\n",
      "Epoch 18/20\n",
      "5216/5216 [==============================] - 19s 4ms/step - loss: 0.0320 - accuracy: 0.9872 - val_loss: 0.1958 - val_accuracy: 0.8750\n",
      "Epoch 19/20\n",
      "5216/5216 [==============================] - 21s 4ms/step - loss: 0.0279 - accuracy: 0.9887 - val_loss: 0.3904 - val_accuracy: 0.8125\n",
      "Epoch 20/20\n",
      "5216/5216 [==============================] - 19s 4ms/step - loss: 0.0260 - accuracy: 0.9900 - val_loss: 0.2030 - val_accuracy: 0.8750\n"
     ]
    }
   ],
   "source": [
    "history_adam=model.fit(\n",
    "    X_train,\n",
    "    Y_train,\n",
    "    batch_size=32,\n",
    "    epochs=20,\n",
    "    validation_data=(X_val,Y_val)\n",
    ")"
   ]
  },
  {
   "cell_type": "code",
   "execution_count": 13,
   "metadata": {},
   "outputs": [
    {
     "name": "stdout",
     "output_type": "stream",
     "text": [
      "624/624 [==============================] - 0s 588us/step\n"
     ]
    }
   ],
   "source": [
    "score=model.evaluate(X_test,Y_test)"
   ]
  },
  {
   "cell_type": "code",
   "execution_count": 14,
   "metadata": {},
   "outputs": [
    {
     "data": {
      "image/png": "[encoded data removed]",
      "text/plain": [
       "<Figure size 864x864 with 2 Axes>"
      ]
     },
     "metadata": {
      "needs_background": "light"
     },
     "output_type": "display_data"
    }
   ],
   "source": [
    "import seaborn as sns\n",
    "from sklearn.metrics import confusion_matrix\n",
    "y_pred = model.predict(X_test)\n",
    "y_pred_classes = np.argmax(y_pred,axis = 1) \n",
    "y_true = np.argmax(Y_test,axis = 1) \n",
    "confusion_mtx = confusion_matrix(y_true, y_pred_classes) \n",
    "f,ax = plt.subplots(figsize=(12, 12))\n",
    "sns.heatmap(confusion_mtx, annot=True, linewidths=0.01,cmap=\"Greens\",linecolor=\"gray\", fmt= '.1f',ax=ax)\n",
    "plt.xlabel(\"Predicted Label\")\n",
    "plt.ylabel(\"True Label\")\n",
    "plt.title(\"Confusion Matrix\")\n",
    "plt.show()"
   ]
  },
  {
   "cell_type": "code",
   "execution_count": null,
   "metadata": {},
   "outputs": [],
   "source": []
  }
 ],
 "metadata": {
  "kernelspec": {
   "display_name": "Python 3",
   "language": "python",
   "name": "python3"
  },
  "language_info": {
   "codemirror_mode": {
    "name": "ipython",
    "version": 3
   },
   "file_extension": ".py",
   "mimetype": "text/x-python",
   "name": "python",
   "nbconvert_exporter": "python",
   "pygments_lexer": "ipython3",
   "version": "3.7.3"
  }
 },
 "nbformat": 4,
 "nbformat_minor": 2
}
